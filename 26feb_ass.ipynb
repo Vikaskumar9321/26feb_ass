{
 "cells": [
  {
   "cell_type": "code",
   "execution_count": 1,
   "id": "f19983e8-1744-4c96-8df1-dff11e04e920",
   "metadata": {},
   "outputs": [],
   "source": [
    "import numpy as np "
   ]
  },
  {
   "cell_type": "code",
   "execution_count": 2,
   "id": "ae72d3bf-3cc9-4a4a-90fd-4aef6da2ded3",
   "metadata": {},
   "outputs": [],
   "source": [
    "list_ = ['1','2','3','4','5']"
   ]
  },
  {
   "cell_type": "code",
   "execution_count": 4,
   "id": "584bbc9f-7b5f-4261-8e5c-4a5a16d6f917",
   "metadata": {},
   "outputs": [],
   "source": [
    "array_list = np.array(object = list_)"
   ]
  },
  {
   "cell_type": "code",
   "execution_count": 5,
   "id": "ca55c683-41dc-4403-8688-ba7119ec6376",
   "metadata": {},
   "outputs": [
    {
     "data": {
      "text/plain": [
       "array(['1', '2', '3', '4', '5'], dtype='<U1')"
      ]
     },
     "execution_count": 5,
     "metadata": {},
     "output_type": "execute_result"
    }
   ],
   "source": [
    "array_list"
   ]
  },
  {
   "cell_type": "markdown",
   "id": "01aeba84-5141-4c7c-97c7-7e4f5040eba3",
   "metadata": {},
   "source": [
    "#Ans.1"
   ]
  },
  {
   "cell_type": "code",
   "execution_count": 6,
   "id": "8f91a423-6c0b-4fc9-8e84-ddfd70ad7112",
   "metadata": {},
   "outputs": [
    {
     "data": {
      "text/plain": [
       "list"
      ]
     },
     "execution_count": 6,
     "metadata": {},
     "output_type": "execute_result"
    }
   ],
   "source": [
    "type(list_)"
   ]
  },
  {
   "cell_type": "code",
   "execution_count": 7,
   "id": "268eb5cc-8c51-45a5-915a-cdf8ea261517",
   "metadata": {},
   "outputs": [
    {
     "data": {
      "text/plain": [
       "numpy.ndarray"
      ]
     },
     "execution_count": 7,
     "metadata": {},
     "output_type": "execute_result"
    }
   ],
   "source": [
    "type(array_list)"
   ]
  },
  {
   "cell_type": "markdown",
   "id": "91cec95b-01da-46fe-9e31-72b574447cfd",
   "metadata": {},
   "source": [
    "yes, there is a difference in the data types of variables 'list_' and 'array_list'. \n",
    "\n",
    "The variable 'list_' is a python list, which can contain elements of any data type. In tis case, it contains strings(\"1\",\"2\",\"3\",\"4\",\"5\").\n",
    "\n",
    "The variable 'array_list' is NumPy array created from the 'list_' variable. when you create a NumPy array, it automatically converts the elements to a common data type based on the input values.In this case, since all the elements in 'list_' are strings, the 'array_list' will be NumPy array of strings "
   ]
  },
  {
   "cell_type": "markdown",
   "id": "0befbb48-5025-4011-bf7c-13fc2e0ddbf2",
   "metadata": {},
   "source": [
    "#Ans.2"
   ]
  },
  {
   "cell_type": "code",
   "execution_count": 8,
   "id": "a66f8a21-e9e9-48ff-b5b6-9b8a0665c5b2",
   "metadata": {},
   "outputs": [
    {
     "name": "stdout",
     "output_type": "stream",
     "text": [
      "<class 'str'>\n",
      "<class 'str'>\n",
      "<class 'str'>\n",
      "<class 'str'>\n",
      "<class 'str'>\n"
     ]
    }
   ],
   "source": [
    "for element in list_:\n",
    "    print(type(element))"
   ]
  },
  {
   "cell_type": "code",
   "execution_count": 9,
   "id": "c09bbf6e-ee96-4352-856e-a46e1806c39f",
   "metadata": {},
   "outputs": [
    {
     "name": "stdout",
     "output_type": "stream",
     "text": [
      "<class 'numpy.str_'>\n",
      "<class 'numpy.str_'>\n",
      "<class 'numpy.str_'>\n",
      "<class 'numpy.str_'>\n",
      "<class 'numpy.str_'>\n"
     ]
    }
   ],
   "source": [
    "for element in array_list:\n",
    "    print(type(element))"
   ]
  },
  {
   "cell_type": "markdown",
   "id": "231cefc9-dd21-443f-8846-4382230ebcfe",
   "metadata": {},
   "source": [
    "#Ans.3"
   ]
  },
  {
   "cell_type": "code",
   "execution_count": 10,
   "id": "db8ef8ff-6274-4de4-aa3c-8fc1bdd5b058",
   "metadata": {},
   "outputs": [],
   "source": [
    "array_list = np.array(list_ , dtype=int)"
   ]
  },
  {
   "cell_type": "code",
   "execution_count": 11,
   "id": "767c8143-bbed-4b95-b647-b706f83e694d",
   "metadata": {},
   "outputs": [
    {
     "name": "stdout",
     "output_type": "stream",
     "text": [
      "<class 'str'>\n",
      "<class 'str'>\n",
      "<class 'str'>\n",
      "<class 'str'>\n",
      "<class 'str'>\n"
     ]
    }
   ],
   "source": [
    "for element in list_:\n",
    "    print(type(element))"
   ]
  },
  {
   "cell_type": "code",
   "execution_count": 12,
   "id": "91f9077e-7449-471c-98b2-2829333eb9f8",
   "metadata": {},
   "outputs": [
    {
     "name": "stdout",
     "output_type": "stream",
     "text": [
      "<class 'numpy.int64'>\n",
      "<class 'numpy.int64'>\n",
      "<class 'numpy.int64'>\n",
      "<class 'numpy.int64'>\n",
      "<class 'numpy.int64'>\n"
     ]
    }
   ],
   "source": [
    "for element in array_list:\n",
    "    print(type(element))"
   ]
  },
  {
   "cell_type": "markdown",
   "id": "01f9e541-b30d-4194-a279-70bd7a156a79",
   "metadata": {},
   "source": [
    "#Ans.4"
   ]
  },
  {
   "cell_type": "code",
   "execution_count": 13,
   "id": "7cc525b7-bf50-4122-bd80-0bcae8fcd212",
   "metadata": {},
   "outputs": [],
   "source": [
    "num_list = [[1,2,3],[4,5,6]]\n",
    "num_array = np.array(num_list)"
   ]
  },
  {
   "cell_type": "code",
   "execution_count": 15,
   "id": "145da8cc-d9e5-4340-8d54-97c9be5657d3",
   "metadata": {},
   "outputs": [],
   "source": [
    "num_array = np.array(num_list)"
   ]
  },
  {
   "cell_type": "code",
   "execution_count": 16,
   "id": "00966a7a-59f6-46e6-8cc2-b0ad7e83baf7",
   "metadata": {},
   "outputs": [
    {
     "data": {
      "text/plain": [
       "array([[1, 2, 3],\n",
       "       [4, 5, 6]])"
      ]
     },
     "execution_count": 16,
     "metadata": {},
     "output_type": "execute_result"
    }
   ],
   "source": [
    "num_array"
   ]
  },
  {
   "cell_type": "code",
   "execution_count": 17,
   "id": "4602572d-9a07-45aa-82a7-18bf533b6259",
   "metadata": {},
   "outputs": [
    {
     "data": {
      "text/plain": [
       "(2, 3)"
      ]
     },
     "execution_count": 17,
     "metadata": {},
     "output_type": "execute_result"
    }
   ],
   "source": [
    "num_array.shape"
   ]
  },
  {
   "cell_type": "code",
   "execution_count": 18,
   "id": "89e1a73b-7e1a-4828-8982-8042ab113ae5",
   "metadata": {},
   "outputs": [
    {
     "data": {
      "text/plain": [
       "6"
      ]
     },
     "execution_count": 18,
     "metadata": {},
     "output_type": "execute_result"
    }
   ],
   "source": [
    "num_array.size"
   ]
  },
  {
   "cell_type": "markdown",
   "id": "21c0f933-b867-44e4-a4d4-5622c12c2b77",
   "metadata": {},
   "source": [
    "#Ans.5"
   ]
  },
  {
   "cell_type": "code",
   "execution_count": 22,
   "id": "39945c53-499f-471f-b48b-1563360d9035",
   "metadata": {},
   "outputs": [],
   "source": [
    "arr5 = np.zeros((3,3))"
   ]
  },
  {
   "cell_type": "code",
   "execution_count": 23,
   "id": "34d5326e-8c91-422f-ae50-5a1b4ea38d30",
   "metadata": {},
   "outputs": [
    {
     "data": {
      "text/plain": [
       "array([[0., 0., 0.],\n",
       "       [0., 0., 0.],\n",
       "       [0., 0., 0.]])"
      ]
     },
     "execution_count": 23,
     "metadata": {},
     "output_type": "execute_result"
    }
   ],
   "source": [
    "arr5"
   ]
  },
  {
   "cell_type": "markdown",
   "id": "81ee9031-9900-4d42-82fb-69d4eb9cc24f",
   "metadata": {},
   "source": [
    "#Ans.6"
   ]
  },
  {
   "cell_type": "code",
   "execution_count": 24,
   "id": "bc2946e0-7d82-49ef-90b8-b4d04a745cdb",
   "metadata": {},
   "outputs": [],
   "source": [
    "identity_matrix = np.eye(5)"
   ]
  },
  {
   "cell_type": "code",
   "execution_count": 25,
   "id": "e221182f-79ac-4ab9-9da5-9c2043807456",
   "metadata": {},
   "outputs": [
    {
     "data": {
      "text/plain": [
       "array([[1., 0., 0., 0., 0.],\n",
       "       [0., 1., 0., 0., 0.],\n",
       "       [0., 0., 1., 0., 0.],\n",
       "       [0., 0., 0., 1., 0.],\n",
       "       [0., 0., 0., 0., 1.]])"
      ]
     },
     "execution_count": 25,
     "metadata": {},
     "output_type": "execute_result"
    }
   ],
   "source": [
    "identity_matrix"
   ]
  },
  {
   "cell_type": "code",
   "execution_count": null,
   "id": "ad6727be-a932-479a-ac1b-79ba29d1a18d",
   "metadata": {},
   "outputs": [],
   "source": []
  }
 ],
 "metadata": {
  "kernelspec": {
   "display_name": "Python 3 (ipykernel)",
   "language": "python",
   "name": "python3"
  },
  "language_info": {
   "codemirror_mode": {
    "name": "ipython",
    "version": 3
   },
   "file_extension": ".py",
   "mimetype": "text/x-python",
   "name": "python",
   "nbconvert_exporter": "python",
   "pygments_lexer": "ipython3",
   "version": "3.10.8"
  }
 },
 "nbformat": 4,
 "nbformat_minor": 5
}
